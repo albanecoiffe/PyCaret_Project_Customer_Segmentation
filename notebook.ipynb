{
 "cells": [
  {
   "cell_type": "markdown",
   "metadata": {},
   "source": [
    "# PyCaret Project to Build and Deploy an ML App using Streamlit"
   ]
  },
  {
   "cell_type": "markdown",
   "metadata": {},
   "source": [
    "## Customer Segmentation \n",
    "\n",
    "The dataset contains Customers profile having columns like  `Age`,`Income`,`Spending Score` and `Savings` and based on the same we are trying to **segment customers** so that our marketing team can target the potential buyer of our product.\n",
    "\n",
    "\n",
    "Hence we will be using **clustering techniques with PyCaret module** to segment customers. \n",
    "\n",
    "\n",
    "Clustering is an **unsupervised learning algorithm** that tries to cluster data based on their similarity in the behaviour."
   ]
  },
  {
   "cell_type": "markdown",
   "metadata": {},
   "source": [
    "## Aim\n",
    "To build an unsupervised learning model with the help of PyCaret library in python that can categorize the customers into different segments and deploy the model using streamlit."
   ]
  },
  {
   "cell_type": "markdown",
   "metadata": {},
   "source": [
    "## PyCaret \n",
    "it is an open source, low-code machine learning library in Python that allows you to go from preparing your data to deploying your model within minutes in your choice of notebook environment."
   ]
  },
  {
   "cell_type": "markdown",
   "metadata": {},
   "source": [
    "## 1. Importing the required libraries and packages"
   ]
  },
  {
   "cell_type": "code",
   "execution_count": 116,
   "metadata": {},
   "outputs": [],
   "source": [
    "import pandas as pd\n",
    "from pycaret.clustering import *"
   ]
  },
  {
   "cell_type": "markdown",
   "metadata": {},
   "source": [
    "## 2. Get the dataset"
   ]
  },
  {
   "cell_type": "code",
   "execution_count": 117,
   "metadata": {},
   "outputs": [
    {
     "name": "stdout",
     "output_type": "stream",
     "text": [
      "(505, 5)\n"
     ]
    },
    {
     "data": {
      "text/html": [
       "<div>\n",
       "<style scoped>\n",
       "    .dataframe tbody tr th:only-of-type {\n",
       "        vertical-align: middle;\n",
       "    }\n",
       "\n",
       "    .dataframe tbody tr th {\n",
       "        vertical-align: top;\n",
       "    }\n",
       "\n",
       "    .dataframe thead th {\n",
       "        text-align: right;\n",
       "    }\n",
       "</style>\n",
       "<table border=\"1\" class=\"dataframe\">\n",
       "  <thead>\n",
       "    <tr style=\"text-align: right;\">\n",
       "      <th></th>\n",
       "      <th>Unnamed: 0</th>\n",
       "      <th>Age</th>\n",
       "      <th>Income</th>\n",
       "      <th>SpendingScore</th>\n",
       "      <th>Savings</th>\n",
       "    </tr>\n",
       "  </thead>\n",
       "  <tbody>\n",
       "    <tr>\n",
       "      <th>0</th>\n",
       "      <td>0</td>\n",
       "      <td>58</td>\n",
       "      <td>77769</td>\n",
       "      <td>0.791329</td>\n",
       "      <td>6559.829923</td>\n",
       "    </tr>\n",
       "    <tr>\n",
       "      <th>1</th>\n",
       "      <td>1</td>\n",
       "      <td>59</td>\n",
       "      <td>81799</td>\n",
       "      <td>0.791082</td>\n",
       "      <td>5417.661426</td>\n",
       "    </tr>\n",
       "    <tr>\n",
       "      <th>2</th>\n",
       "      <td>2</td>\n",
       "      <td>62</td>\n",
       "      <td>74751</td>\n",
       "      <td>0.702657</td>\n",
       "      <td>9258.992965</td>\n",
       "    </tr>\n",
       "    <tr>\n",
       "      <th>3</th>\n",
       "      <td>3</td>\n",
       "      <td>59</td>\n",
       "      <td>74373</td>\n",
       "      <td>0.765680</td>\n",
       "      <td>7346.334504</td>\n",
       "    </tr>\n",
       "    <tr>\n",
       "      <th>4</th>\n",
       "      <td>4</td>\n",
       "      <td>87</td>\n",
       "      <td>17760</td>\n",
       "      <td>0.348778</td>\n",
       "      <td>16869.507130</td>\n",
       "    </tr>\n",
       "  </tbody>\n",
       "</table>\n",
       "</div>"
      ],
      "text/plain": [
       "   Unnamed: 0  Age  Income  SpendingScore       Savings\n",
       "0           0   58   77769       0.791329   6559.829923\n",
       "1           1   59   81799       0.791082   5417.661426\n",
       "2           2   62   74751       0.702657   9258.992965\n",
       "3           3   59   74373       0.765680   7346.334504\n",
       "4           4   87   17760       0.348778  16869.507130"
      ]
     },
     "execution_count": 117,
     "metadata": {},
     "output_type": "execute_result"
    }
   ],
   "source": [
    "data = pd.read_csv('jewel_data.csv')\n",
    "print(data.shape)\n",
    "data.head()"
   ]
  },
  {
   "cell_type": "code",
   "execution_count": 118,
   "metadata": {},
   "outputs": [
    {
     "data": {
      "text/html": [
       "<div>\n",
       "<style scoped>\n",
       "    .dataframe tbody tr th:only-of-type {\n",
       "        vertical-align: middle;\n",
       "    }\n",
       "\n",
       "    .dataframe tbody tr th {\n",
       "        vertical-align: top;\n",
       "    }\n",
       "\n",
       "    .dataframe thead th {\n",
       "        text-align: right;\n",
       "    }\n",
       "</style>\n",
       "<table border=\"1\" class=\"dataframe\">\n",
       "  <thead>\n",
       "    <tr style=\"text-align: right;\">\n",
       "      <th></th>\n",
       "      <th>Age</th>\n",
       "      <th>Income</th>\n",
       "      <th>SpendingScore</th>\n",
       "      <th>Savings</th>\n",
       "    </tr>\n",
       "  </thead>\n",
       "  <tbody>\n",
       "    <tr>\n",
       "      <th>count</th>\n",
       "      <td>505.000000</td>\n",
       "      <td>505.000000</td>\n",
       "      <td>505.000000</td>\n",
       "      <td>505.000000</td>\n",
       "    </tr>\n",
       "    <tr>\n",
       "      <th>mean</th>\n",
       "      <td>59.019802</td>\n",
       "      <td>75513.291089</td>\n",
       "      <td>0.505083</td>\n",
       "      <td>11862.455867</td>\n",
       "    </tr>\n",
       "    <tr>\n",
       "      <th>std</th>\n",
       "      <td>24.140043</td>\n",
       "      <td>35992.922184</td>\n",
       "      <td>0.259634</td>\n",
       "      <td>4949.229253</td>\n",
       "    </tr>\n",
       "    <tr>\n",
       "      <th>min</th>\n",
       "      <td>17.000000</td>\n",
       "      <td>12000.000000</td>\n",
       "      <td>0.000000</td>\n",
       "      <td>0.000000</td>\n",
       "    </tr>\n",
       "    <tr>\n",
       "      <th>25%</th>\n",
       "      <td>34.000000</td>\n",
       "      <td>34529.000000</td>\n",
       "      <td>0.304792</td>\n",
       "      <td>6828.709702</td>\n",
       "    </tr>\n",
       "    <tr>\n",
       "      <th>50%</th>\n",
       "      <td>59.000000</td>\n",
       "      <td>75078.000000</td>\n",
       "      <td>0.368215</td>\n",
       "      <td>14209.932802</td>\n",
       "    </tr>\n",
       "    <tr>\n",
       "      <th>75%</th>\n",
       "      <td>85.000000</td>\n",
       "      <td>107100.000000</td>\n",
       "      <td>0.768279</td>\n",
       "      <td>16047.268331</td>\n",
       "    </tr>\n",
       "    <tr>\n",
       "      <th>max</th>\n",
       "      <td>97.000000</td>\n",
       "      <td>142000.000000</td>\n",
       "      <td>1.000000</td>\n",
       "      <td>20000.000000</td>\n",
       "    </tr>\n",
       "  </tbody>\n",
       "</table>\n",
       "</div>"
      ],
      "text/plain": [
       "              Age         Income  SpendingScore       Savings\n",
       "count  505.000000     505.000000     505.000000    505.000000\n",
       "mean    59.019802   75513.291089       0.505083  11862.455867\n",
       "std     24.140043   35992.922184       0.259634   4949.229253\n",
       "min     17.000000   12000.000000       0.000000      0.000000\n",
       "25%     34.000000   34529.000000       0.304792   6828.709702\n",
       "50%     59.000000   75078.000000       0.368215  14209.932802\n",
       "75%     85.000000  107100.000000       0.768279  16047.268331\n",
       "max     97.000000  142000.000000       1.000000  20000.000000"
      ]
     },
     "execution_count": 118,
     "metadata": {},
     "output_type": "execute_result"
    }
   ],
   "source": [
    "data = data.drop(['Unnamed: 0'], axis=1)\n",
    "data.describe()"
   ]
  },
  {
   "cell_type": "code",
   "execution_count": 119,
   "metadata": {},
   "outputs": [
    {
     "name": "stdout",
     "output_type": "stream",
     "text": [
      "Data for Modeling: (480, 4)\n",
      "Unseen Data For Predictions: (25, 4)\n"
     ]
    }
   ],
   "source": [
    "data_seen = data.sample(frac=0.95, random_state=42).reset_index(drop=True)\n",
    "data_unseen = data.drop(data_seen.index).reset_index(drop=True)\n",
    "print('Data for Modeling: ' + str(data_seen.shape))\n",
    "print('Unseen Data For Predictions: ' + str(data_unseen.shape))"
   ]
  },
  {
   "cell_type": "markdown",
   "metadata": {},
   "source": [
    "## 3. Setup PyCaret environment"
   ]
  },
  {
   "cell_type": "markdown",
   "metadata": {},
   "source": [
    "The `setup()` function **initializes the environment** in pycaret and **creates the transformation pipeline** to prepare the data for modeling and deployment. `setup()` must be called before executing any other function in pycaret.\n",
    "\n",
    "When setup() is executed, PyCaret's inference algorithm will automatically **infer the data types for all features based on certain properties**. The data type should be inferred correctly but this is not always the case. To account for this, PyCaret displays a table containing the features and their inferred data types after setup() is executed. If all of the data types are correctly identified enter can be pressed to continue or quit can be typed to end the expriment."
   ]
  },
  {
   "cell_type": "code",
   "execution_count": 120,
   "metadata": {},
   "outputs": [
    {
     "data": {
      "text/html": [
       "<style type=\"text/css\">\n",
       "#T_fc034_row4_col1 {\n",
       "  background-color: lightgreen;\n",
       "}\n",
       "</style>\n",
       "<table id=\"T_fc034\">\n",
       "  <thead>\n",
       "    <tr>\n",
       "      <th class=\"blank level0\" >&nbsp;</th>\n",
       "      <th id=\"T_fc034_level0_col0\" class=\"col_heading level0 col0\" >Description</th>\n",
       "      <th id=\"T_fc034_level0_col1\" class=\"col_heading level0 col1\" >Value</th>\n",
       "    </tr>\n",
       "  </thead>\n",
       "  <tbody>\n",
       "    <tr>\n",
       "      <th id=\"T_fc034_level0_row0\" class=\"row_heading level0 row0\" >0</th>\n",
       "      <td id=\"T_fc034_row0_col0\" class=\"data row0 col0\" >Session id</td>\n",
       "      <td id=\"T_fc034_row0_col1\" class=\"data row0 col1\" >2275</td>\n",
       "    </tr>\n",
       "    <tr>\n",
       "      <th id=\"T_fc034_level0_row1\" class=\"row_heading level0 row1\" >1</th>\n",
       "      <td id=\"T_fc034_row1_col0\" class=\"data row1 col0\" >Original data shape</td>\n",
       "      <td id=\"T_fc034_row1_col1\" class=\"data row1 col1\" >(505, 4)</td>\n",
       "    </tr>\n",
       "    <tr>\n",
       "      <th id=\"T_fc034_level0_row2\" class=\"row_heading level0 row2\" >2</th>\n",
       "      <td id=\"T_fc034_row2_col0\" class=\"data row2 col0\" >Transformed data shape</td>\n",
       "      <td id=\"T_fc034_row2_col1\" class=\"data row2 col1\" >(505, 4)</td>\n",
       "    </tr>\n",
       "    <tr>\n",
       "      <th id=\"T_fc034_level0_row3\" class=\"row_heading level0 row3\" >3</th>\n",
       "      <td id=\"T_fc034_row3_col0\" class=\"data row3 col0\" >Numeric features</td>\n",
       "      <td id=\"T_fc034_row3_col1\" class=\"data row3 col1\" >4</td>\n",
       "    </tr>\n",
       "    <tr>\n",
       "      <th id=\"T_fc034_level0_row4\" class=\"row_heading level0 row4\" >4</th>\n",
       "      <td id=\"T_fc034_row4_col0\" class=\"data row4 col0\" >Preprocess</td>\n",
       "      <td id=\"T_fc034_row4_col1\" class=\"data row4 col1\" >True</td>\n",
       "    </tr>\n",
       "    <tr>\n",
       "      <th id=\"T_fc034_level0_row5\" class=\"row_heading level0 row5\" >5</th>\n",
       "      <td id=\"T_fc034_row5_col0\" class=\"data row5 col0\" >Imputation type</td>\n",
       "      <td id=\"T_fc034_row5_col1\" class=\"data row5 col1\" >simple</td>\n",
       "    </tr>\n",
       "    <tr>\n",
       "      <th id=\"T_fc034_level0_row6\" class=\"row_heading level0 row6\" >6</th>\n",
       "      <td id=\"T_fc034_row6_col0\" class=\"data row6 col0\" >Numeric imputation</td>\n",
       "      <td id=\"T_fc034_row6_col1\" class=\"data row6 col1\" >mean</td>\n",
       "    </tr>\n",
       "    <tr>\n",
       "      <th id=\"T_fc034_level0_row7\" class=\"row_heading level0 row7\" >7</th>\n",
       "      <td id=\"T_fc034_row7_col0\" class=\"data row7 col0\" >Categorical imputation</td>\n",
       "      <td id=\"T_fc034_row7_col1\" class=\"data row7 col1\" >mode</td>\n",
       "    </tr>\n",
       "    <tr>\n",
       "      <th id=\"T_fc034_level0_row8\" class=\"row_heading level0 row8\" >8</th>\n",
       "      <td id=\"T_fc034_row8_col0\" class=\"data row8 col0\" >CPU Jobs</td>\n",
       "      <td id=\"T_fc034_row8_col1\" class=\"data row8 col1\" >-1</td>\n",
       "    </tr>\n",
       "    <tr>\n",
       "      <th id=\"T_fc034_level0_row9\" class=\"row_heading level0 row9\" >9</th>\n",
       "      <td id=\"T_fc034_row9_col0\" class=\"data row9 col0\" >Use GPU</td>\n",
       "      <td id=\"T_fc034_row9_col1\" class=\"data row9 col1\" >False</td>\n",
       "    </tr>\n",
       "    <tr>\n",
       "      <th id=\"T_fc034_level0_row10\" class=\"row_heading level0 row10\" >10</th>\n",
       "      <td id=\"T_fc034_row10_col0\" class=\"data row10 col0\" >Log Experiment</td>\n",
       "      <td id=\"T_fc034_row10_col1\" class=\"data row10 col1\" >False</td>\n",
       "    </tr>\n",
       "    <tr>\n",
       "      <th id=\"T_fc034_level0_row11\" class=\"row_heading level0 row11\" >11</th>\n",
       "      <td id=\"T_fc034_row11_col0\" class=\"data row11 col0\" >Experiment Name</td>\n",
       "      <td id=\"T_fc034_row11_col1\" class=\"data row11 col1\" >cluster-default-name</td>\n",
       "    </tr>\n",
       "    <tr>\n",
       "      <th id=\"T_fc034_level0_row12\" class=\"row_heading level0 row12\" >12</th>\n",
       "      <td id=\"T_fc034_row12_col0\" class=\"data row12 col0\" >USI</td>\n",
       "      <td id=\"T_fc034_row12_col1\" class=\"data row12 col1\" >1fb2</td>\n",
       "    </tr>\n",
       "  </tbody>\n",
       "</table>\n"
      ],
      "text/plain": [
       "<pandas.io.formats.style.Styler at 0x14bd2ae90>"
      ]
     },
     "metadata": {},
     "output_type": "display_data"
    }
   ],
   "source": [
    "#from pycaret.clustering import *\n",
    "cust_exp = setup(data = data)"
   ]
  },
  {
   "cell_type": "markdown",
   "metadata": {},
   "source": [
    "Once the setup has been succesfully executed it prints the information grid which contains several important pieces of information. Most of the information is related to the pre-processing pipeline which is constructed when setup() is executed. The majority of these features are out of scope for the purposes of this tutorial however a few important things to note at this stage include:\n",
    "\n",
    "- session_id : A pseduo-random number distributed as a seed in all functions for later reproducibility. If no session_id is passed, a random number is automatically generated that is distributed to all functions. In this experiment, the session_id is set as 123 for later reproducibility.\n",
    "\n",
    "- Missing Values : When there are missing values in original data this will show as True. Notice that Missing Values in the information grid above is True as the data contains missing values which are automatically imputed using mean for numeric features and constant for categorical features. The method of imputation can be changed using the numeric_imputation and categorical_imputation parameters in setup().\n",
    "\n",
    "- Original Data : Displays the original shape of dataset. In this experiment (505, 4) means 505 samples and 4 features.\n",
    "\n",
    "- Transformed Data : Displays the shape of the transformed dataset. The number of features can increase due to encoding of categorical features in the dataset if there is any.\n",
    "\n",
    "- Numeric Features : The number of features inferred as numeric. \n",
    "\n",
    "- Categorical Features : The number of features inferred as categorical. "
   ]
  },
  {
   "cell_type": "markdown",
   "metadata": {},
   "source": [
    "## 4. Model Creation"
   ]
  },
  {
   "cell_type": "code",
   "execution_count": 121,
   "metadata": {},
   "outputs": [
    {
     "data": {
      "text/html": [],
      "text/plain": [
       "<IPython.core.display.HTML object>"
      ]
     },
     "metadata": {},
     "output_type": "display_data"
    },
    {
     "data": {
      "text/html": [
       "<style type=\"text/css\">\n",
       "</style>\n",
       "<table id=\"T_e74f9\">\n",
       "  <thead>\n",
       "    <tr>\n",
       "      <th class=\"blank level0\" >&nbsp;</th>\n",
       "      <th id=\"T_e74f9_level0_col0\" class=\"col_heading level0 col0\" >Silhouette</th>\n",
       "      <th id=\"T_e74f9_level0_col1\" class=\"col_heading level0 col1\" >Calinski-Harabasz</th>\n",
       "      <th id=\"T_e74f9_level0_col2\" class=\"col_heading level0 col2\" >Davies-Bouldin</th>\n",
       "      <th id=\"T_e74f9_level0_col3\" class=\"col_heading level0 col3\" >Homogeneity</th>\n",
       "      <th id=\"T_e74f9_level0_col4\" class=\"col_heading level0 col4\" >Rand Index</th>\n",
       "      <th id=\"T_e74f9_level0_col5\" class=\"col_heading level0 col5\" >Completeness</th>\n",
       "    </tr>\n",
       "  </thead>\n",
       "  <tbody>\n",
       "    <tr>\n",
       "      <th id=\"T_e74f9_level0_row0\" class=\"row_heading level0 row0\" >0</th>\n",
       "      <td id=\"T_e74f9_row0_col0\" class=\"data row0 col0\" >0.7207</td>\n",
       "      <td id=\"T_e74f9_row0_col1\" class=\"data row0 col1\" >5011.8115</td>\n",
       "      <td id=\"T_e74f9_row0_col2\" class=\"data row0 col2\" >0.4114</td>\n",
       "      <td id=\"T_e74f9_row0_col3\" class=\"data row0 col3\" >0</td>\n",
       "      <td id=\"T_e74f9_row0_col4\" class=\"data row0 col4\" >0</td>\n",
       "      <td id=\"T_e74f9_row0_col5\" class=\"data row0 col5\" >0</td>\n",
       "    </tr>\n",
       "  </tbody>\n",
       "</table>\n"
      ],
      "text/plain": [
       "<pandas.io.formats.style.Styler at 0x14bce63d0>"
      ]
     },
     "metadata": {},
     "output_type": "display_data"
    },
    {
     "data": {
      "text/html": [],
      "text/plain": [
       "<IPython.core.display.HTML object>"
      ]
     },
     "metadata": {},
     "output_type": "display_data"
    }
   ],
   "source": [
    "kmeans = create_model('kmeans',4)"
   ]
  },
  {
   "cell_type": "code",
   "execution_count": 122,
   "metadata": {},
   "outputs": [
    {
     "data": {
      "text/html": [],
      "text/plain": [
       "<IPython.core.display.HTML object>"
      ]
     },
     "metadata": {},
     "output_type": "display_data"
    },
    {
     "data": {
      "image/png": "[encoded data removed]",
      "text/plain": [
       "<Figure size 800x550 with 1 Axes>"
      ]
     },
     "metadata": {},
     "output_type": "display_data"
    }
   ],
   "source": [
    "plot_model(kmeans,plot = 'elbow')"
   ]
  },
  {
   "cell_type": "code",
   "execution_count": 123,
   "metadata": {},
   "outputs": [
    {
     "name": "stdout",
     "output_type": "stream",
     "text": [
      "KMeans(n_clusters=4, random_state=2275)\n"
     ]
    }
   ],
   "source": [
    "print(kmeans)"
   ]
  },
  {
   "cell_type": "markdown",
   "metadata": {},
   "source": [
    "## 5. Model Assigning"
   ]
  },
  {
   "cell_type": "markdown",
   "metadata": {},
   "source": [
    "Now that we have created a model, we would like to assign the cluster labels to our dataset to analyze the results. We will achieve this by using the **assign_model()** function."
   ]
  },
  {
   "cell_type": "code",
   "execution_count": 124,
   "metadata": {},
   "outputs": [
    {
     "data": {
      "text/html": [
       "<div>\n",
       "<style scoped>\n",
       "    .dataframe tbody tr th:only-of-type {\n",
       "        vertical-align: middle;\n",
       "    }\n",
       "\n",
       "    .dataframe tbody tr th {\n",
       "        vertical-align: top;\n",
       "    }\n",
       "\n",
       "    .dataframe thead th {\n",
       "        text-align: right;\n",
       "    }\n",
       "</style>\n",
       "<table border=\"1\" class=\"dataframe\">\n",
       "  <thead>\n",
       "    <tr style=\"text-align: right;\">\n",
       "      <th></th>\n",
       "      <th>Age</th>\n",
       "      <th>Income</th>\n",
       "      <th>SpendingScore</th>\n",
       "      <th>Savings</th>\n",
       "      <th>Cluster</th>\n",
       "    </tr>\n",
       "  </thead>\n",
       "  <tbody>\n",
       "    <tr>\n",
       "      <th>0</th>\n",
       "      <td>58</td>\n",
       "      <td>77769</td>\n",
       "      <td>0.791329</td>\n",
       "      <td>6559.830078</td>\n",
       "      <td>Cluster 0</td>\n",
       "    </tr>\n",
       "    <tr>\n",
       "      <th>1</th>\n",
       "      <td>59</td>\n",
       "      <td>81799</td>\n",
       "      <td>0.791082</td>\n",
       "      <td>5417.661621</td>\n",
       "      <td>Cluster 0</td>\n",
       "    </tr>\n",
       "    <tr>\n",
       "      <th>2</th>\n",
       "      <td>62</td>\n",
       "      <td>74751</td>\n",
       "      <td>0.702657</td>\n",
       "      <td>9258.993164</td>\n",
       "      <td>Cluster 0</td>\n",
       "    </tr>\n",
       "    <tr>\n",
       "      <th>3</th>\n",
       "      <td>59</td>\n",
       "      <td>74373</td>\n",
       "      <td>0.765680</td>\n",
       "      <td>7346.334473</td>\n",
       "      <td>Cluster 0</td>\n",
       "    </tr>\n",
       "    <tr>\n",
       "      <th>4</th>\n",
       "      <td>87</td>\n",
       "      <td>17760</td>\n",
       "      <td>0.348778</td>\n",
       "      <td>16869.507812</td>\n",
       "      <td>Cluster 2</td>\n",
       "    </tr>\n",
       "  </tbody>\n",
       "</table>\n",
       "</div>"
      ],
      "text/plain": [
       "   Age  Income  SpendingScore       Savings    Cluster\n",
       "0   58   77769       0.791329   6559.830078  Cluster 0\n",
       "1   59   81799       0.791082   5417.661621  Cluster 0\n",
       "2   62   74751       0.702657   9258.993164  Cluster 0\n",
       "3   59   74373       0.765680   7346.334473  Cluster 0\n",
       "4   87   17760       0.348778  16869.507812  Cluster 2"
      ]
     },
     "execution_count": 124,
     "metadata": {},
     "output_type": "execute_result"
    }
   ],
   "source": [
    "kmean_results = assign_model(kmeans)\n",
    "kmean_results.head()"
   ]
  },
  {
   "cell_type": "code",
   "execution_count": 125,
   "metadata": {},
   "outputs": [
    {
     "data": {
      "text/plain": [
       "20000.0"
      ]
     },
     "execution_count": 125,
     "metadata": {},
     "output_type": "execute_result"
    }
   ],
   "source": [
    "kmean_results.Savings.max()"
   ]
  },
  {
   "cell_type": "code",
   "execution_count": 126,
   "metadata": {},
   "outputs": [
    {
     "data": {
      "text/html": [
       "<div>\n",
       "<style scoped>\n",
       "    .dataframe tbody tr th:only-of-type {\n",
       "        vertical-align: middle;\n",
       "    }\n",
       "\n",
       "    .dataframe tbody tr th {\n",
       "        vertical-align: top;\n",
       "    }\n",
       "\n",
       "    .dataframe thead th {\n",
       "        text-align: right;\n",
       "    }\n",
       "</style>\n",
       "<table border=\"1\" class=\"dataframe\">\n",
       "  <thead>\n",
       "    <tr style=\"text-align: right;\">\n",
       "      <th></th>\n",
       "      <th>Age</th>\n",
       "      <th>Income</th>\n",
       "      <th>SpendingScore</th>\n",
       "      <th>Savings</th>\n",
       "      <th>Cluster</th>\n",
       "    </tr>\n",
       "  </thead>\n",
       "  <tbody>\n",
       "    <tr>\n",
       "      <th>0</th>\n",
       "      <td>58</td>\n",
       "      <td>77769</td>\n",
       "      <td>0.791329</td>\n",
       "      <td>6559.830078</td>\n",
       "      <td>Cluster 0</td>\n",
       "    </tr>\n",
       "    <tr>\n",
       "      <th>1</th>\n",
       "      <td>59</td>\n",
       "      <td>81799</td>\n",
       "      <td>0.791082</td>\n",
       "      <td>5417.661621</td>\n",
       "      <td>Cluster 0</td>\n",
       "    </tr>\n",
       "    <tr>\n",
       "      <th>2</th>\n",
       "      <td>62</td>\n",
       "      <td>74751</td>\n",
       "      <td>0.702657</td>\n",
       "      <td>9258.993164</td>\n",
       "      <td>Cluster 0</td>\n",
       "    </tr>\n",
       "    <tr>\n",
       "      <th>3</th>\n",
       "      <td>59</td>\n",
       "      <td>74373</td>\n",
       "      <td>0.765680</td>\n",
       "      <td>7346.334473</td>\n",
       "      <td>Cluster 0</td>\n",
       "    </tr>\n",
       "    <tr>\n",
       "      <th>6</th>\n",
       "      <td>54</td>\n",
       "      <td>76500</td>\n",
       "      <td>0.785198</td>\n",
       "      <td>6878.884277</td>\n",
       "      <td>Cluster 0</td>\n",
       "    </tr>\n",
       "    <tr>\n",
       "      <th>...</th>\n",
       "      <td>...</td>\n",
       "      <td>...</td>\n",
       "      <td>...</td>\n",
       "      <td>...</td>\n",
       "      <td>...</td>\n",
       "    </tr>\n",
       "    <tr>\n",
       "      <th>479</th>\n",
       "      <td>59</td>\n",
       "      <td>69408</td>\n",
       "      <td>0.879906</td>\n",
       "      <td>6491.770996</td>\n",
       "      <td>Cluster 0</td>\n",
       "    </tr>\n",
       "    <tr>\n",
       "      <th>480</th>\n",
       "      <td>65</td>\n",
       "      <td>71229</td>\n",
       "      <td>0.787890</td>\n",
       "      <td>9024.337891</td>\n",
       "      <td>Cluster 0</td>\n",
       "    </tr>\n",
       "    <tr>\n",
       "      <th>491</th>\n",
       "      <td>58</td>\n",
       "      <td>70369</td>\n",
       "      <td>0.904521</td>\n",
       "      <td>7461.567383</td>\n",
       "      <td>Cluster 0</td>\n",
       "    </tr>\n",
       "    <tr>\n",
       "      <th>492</th>\n",
       "      <td>61</td>\n",
       "      <td>74282</td>\n",
       "      <td>0.692236</td>\n",
       "      <td>7286.754883</td>\n",
       "      <td>Cluster 0</td>\n",
       "    </tr>\n",
       "    <tr>\n",
       "      <th>495</th>\n",
       "      <td>66</td>\n",
       "      <td>77052</td>\n",
       "      <td>0.707262</td>\n",
       "      <td>6296.417480</td>\n",
       "      <td>Cluster 0</td>\n",
       "    </tr>\n",
       "  </tbody>\n",
       "</table>\n",
       "<p>156 rows × 5 columns</p>\n",
       "</div>"
      ],
      "text/plain": [
       "     Age  Income  SpendingScore      Savings    Cluster\n",
       "0     58   77769       0.791329  6559.830078  Cluster 0\n",
       "1     59   81799       0.791082  5417.661621  Cluster 0\n",
       "2     62   74751       0.702657  9258.993164  Cluster 0\n",
       "3     59   74373       0.765680  7346.334473  Cluster 0\n",
       "6     54   76500       0.785198  6878.884277  Cluster 0\n",
       "..   ...     ...            ...          ...        ...\n",
       "479   59   69408       0.879906  6491.770996  Cluster 0\n",
       "480   65   71229       0.787890  9024.337891  Cluster 0\n",
       "491   58   70369       0.904521  7461.567383  Cluster 0\n",
       "492   61   74282       0.692236  7286.754883  Cluster 0\n",
       "495   66   77052       0.707262  6296.417480  Cluster 0\n",
       "\n",
       "[156 rows x 5 columns]"
      ]
     },
     "execution_count": 126,
     "metadata": {},
     "output_type": "execute_result"
    }
   ],
   "source": [
    "kmean_results[kmean_results['Cluster'] == 'Cluster 0']"
   ]
  },
  {
   "cell_type": "markdown",
   "metadata": {},
   "source": [
    "## 6. Plotting model"
   ]
  },
  {
   "cell_type": "code",
   "execution_count": 127,
   "metadata": {},
   "outputs": [
    {
     "data": {
      "text/html": [],
      "text/plain": [
       "<IPython.core.display.HTML object>"
      ]
     },
     "metadata": {},
     "output_type": "display_data"
    },
    {
     "data": {
      "application/vnd.plotly.v1+json": {
       "config": {
        "plotlyServerURL": "https://plot.ly"
       },
       "data": [
        {
         "customdata": [
          [
           58
          ],
          [
           58
          ],
          [
           55
          ],
          [
           60
          ],
          [
           56
          ],
          [
           60
          ],
          [
           58
          ],
          [
           56
          ],
          [
           64
          ],
          [
           63
          ],
          [
           62
          ],
          [
           59
          ],
          [
           67
          ],
          [
           58
          ],
          [
           58
          ],
          [
           57
          ],
          [
           66
          ],
          [
           64
          ],
          [
           59
          ],
          [
           68
          ],
          [
           61
          ],
          [
           64
          ],
          [
           63
          ],
          [
           55
          ],
          [
           57
          ],
          [
           57
          ],
          [
           53
          ],
          [
           61
          ],
          [
           61
          ],
          [
           62
          ],
          [
           62
          ],
          [
           62
          ],
          [
           60
          ],
          [
           65
          ],
          [
           60
          ],
          [
           63
          ],
          [
           56
          ],
          [
           58
          ],
          [
           62
          ],
          [
           56
          ],
          [
           59
          ],
          [
           65
          ],
          [
           62
          ],
          [
           59
          ],
          [
           66
          ],
          [
           64
          ],
          [
           62
          ],
          [
           61
          ],
          [
           56
          ],
          [
           62
          ],
          [
           60
          ],
          [
           62
          ],
          [
           64
          ],
          [
           63
          ],
          [
           58
          ],
          [
           59
          ],
          [
           59
          ],
          [
           59
          ],
          [
           59
          ],
          [
           55
          ],
          [
           51
          ],
          [
           57
          ],
          [
           61
          ],
          [
           60
          ],
          [
           64
          ],
          [
           65
          ],
          [
           59
          ],
          [
           58
          ],
          [
           63
          ],
          [
           61
          ],
          [
           59
          ],
          [
           56
          ],
          [
           61
          ],
          [
           63
          ],
          [
           58
          ],
          [
           62
          ],
          [
           60
          ],
          [
           62
          ],
          [
           65
          ],
          [
           59
          ],
          [
           65
          ],
          [
           58
          ],
          [
           61
          ],
          [
           66
          ],
          [
           58
          ],
          [
           68
          ],
          [
           58
          ],
          [
           67
          ],
          [
           58
          ],
          [
           56
          ],
          [
           61
          ],
          [
           56
          ],
          [
           61
          ],
          [
           59
          ],
          [
           62
          ],
          [
           59
          ],
          [
           59
          ],
          [
           59
          ],
          [
           57
          ],
          [
           59
          ],
          [
           64
          ],
          [
           61
          ],
          [
           63
          ],
          [
           56
          ],
          [
           59
          ],
          [
           58
          ],
          [
           61
          ],
          [
           55
          ],
          [
           59
          ],
          [
           60
          ],
          [
           60
          ],
          [
           67
          ],
          [
           57
          ],
          [
           56
          ],
          [
           67
          ],
          [
           63
          ],
          [
           57
          ],
          [
           57
          ],
          [
           64
          ],
          [
           61
          ],
          [
           55
          ],
          [
           66
          ],
          [
           59
          ],
          [
           61
          ],
          [
           61
          ],
          [
           57
          ],
          [
           58
          ],
          [
           61
          ],
          [
           61
          ],
          [
           63
          ],
          [
           54
          ],
          [
           56
          ],
          [
           64
          ],
          [
           53
          ],
          [
           55
          ],
          [
           58
          ],
          [
           55
          ],
          [
           59
          ],
          [
           58
          ],
          [
           58
          ],
          [
           59
          ],
          [
           57
          ],
          [
           61
          ],
          [
           53
          ],
          [
           56
          ],
          [
           59
          ],
          [
           62
          ],
          [
           60
          ],
          [
           60
          ],
          [
           66
          ],
          [
           58
          ],
          [
           55
          ],
          [
           59
          ],
          [
           62
          ],
          [
           59
          ],
          [
           62
          ]
         ],
         "hovertemplate": "Cluster=Cluster 0<br>PCA1=%{x}<br>PCA2=%{y}<br>Feature=%{customdata[0]}<extra></extra>",
         "legendgroup": "Cluster 0",
         "marker": {
          "color": "#636efa",
          "opacity": 0.5,
          "symbol": "circle"
         },
         "mode": "markers",
         "name": "Cluster 0",
         "orientation": "v",
         "showlegend": true,
         "textposition": "top center",
         "type": "scatter",
         "x": [
          2555.7842237303516,
          8122.080380431863,
          871.0561288830036,
          -7740.904886148213,
          -15159.901907030267,
          -9955.598990292237,
          5073.487342754966,
          -7927.279401739003,
          -10817.514887710633,
          -182.87509914870347,
          -12401.012613234332,
          384.48864417494667,
          -15876.014206199572,
          2392.9514015408126,
          -4856.160273050595,
          -9604.976111586086,
          -3578.6411698601955,
          3594.04243193777,
          -5713.304473394479,
          2456.114930263726,
          -4025.534582979207,
          1223.3332868105292,
          -18377.080909021173,
          -1254.7960958097444,
          1380.909588921552,
          -5506.504771609418,
          -284.9346156042475,
          -1867.5011781843561,
          -4335.121225148144,
          -8175.9447838759415,
          -11570.013634605883,
          -12594.175257191957,
          -3881.2792386591905,
          -9447.566961580671,
          -4595.72546452573,
          5567.478118222907,
          9121.208333274752,
          499.49662400636424,
          -4176.722628358169,
          -6529.597903259435,
          -7423.928781748684,
          -9153.99211227535,
          4864.683651762649,
          -7249.0281441127045,
          7325.256189942488,
          1198.215521605778,
          -6945.490210959251,
          -5628.9837550721195,
          -6874.447279795807,
          3175.730103636433,
          -10072.875122355043,
          -5806.0770680668375,
          11039.026949927069,
          -5414.849621040676,
          3385.822034418759,
          -3902.6507664053634,
          277.3194394523527,
          -18832.32309725967,
          -7793.454361394592,
          -10419.650737321672,
          -3127.7464850155184,
          -3147.97170177752,
          3607.6218458178573,
          -805.5182754639147,
          -12402.614021503574,
          -811.2732950246567,
          -7981.746785180185,
          2868.675324116314,
          7034.567000940581,
          -7827.504394122575,
          -7225.656657280492,
          -9823.292972914787,
          -3197.7706738433185,
          -4661.643211273583,
          -4588.845678205519,
          -1424.296859729879,
          -11770.09623398285,
          -7431.169948635812,
          -4794.730197271379,
          -5787.5844511746345,
          -4114.665839253162,
          -4883.720557377949,
          -967.1345392121368,
          1855.0479746174137,
          3333.0370068762813,
          -6270.130047136971,
          -6075.723954598629,
          3574.8676307498267,
          834.606339798728,
          375.61201032837016,
          -3222.0284980233,
          3735.222284723837,
          -9600.009518947496,
          2663.8141164030053,
          -5898.744482221798,
          -6051.798043076612,
          5619.125533378018,
          -2220.635444393814,
          -10371.487065175941,
          -1864.5940731049393,
          -3536.6249026123182,
          -9270.983238674973,
          -7793.211518497572,
          5122.282549932681,
          7017.407221041012,
          4968.764656493567,
          -6214.354922912841,
          1547.9124272171994,
          -1709.006714492259,
          -5149.414552703784,
          -9176.939927564546,
          5679.935019062454,
          4615.604597857523,
          -1755.36636710797,
          -6586.375025316474,
          -2329.6167739359657,
          -1148.5927303150002,
          106.44731571900451,
          13091.374146760914,
          -11385.8073066192,
          -847.3002323292304,
          -2630.794144410166,
          -9514.742116918947,
          1691.1470012917102,
          -6112.701963031478,
          1381.292535302744,
          -4972.9221323188995,
          -3354.409395225735,
          -1006.7942920597756,
          10499.407287118553,
          1270.5926144944287,
          11129.42415200365,
          -14757.626867529672,
          -13124.391619355427,
          3442.067889271258,
          -4333.3531655613715,
          -4197.99598822473,
          -879.696123836788,
          1797.8692909309736,
          -5327.512632351789,
          -5495.93003391773,
          4241.775879690281,
          -2009.7086269484491,
          1535.320025725942,
          -11393.264273317021,
          6644.597598902896,
          -1710.0091114415031,
          -5228.773563698113,
          4848.442756486673,
          -10238.837919558973,
          -907.6690954314613,
          -3652.051625562803,
          -2601.8696305967815,
          -611.8920901109269,
          -860.4354508721358,
          -5414.451735591042
         ],
         "xaxis": "x",
         "y": [
          5164.690207216536,
          4731.012077645313,
          5689.0001951326085,
          5133.639365463523,
          5573.243770197058,
          4085.3124409459474,
          5244.436589238656,
          5673.527612414182,
          6677.482013672123,
          4411.324333177544,
          6731.622413481733,
          6845.141671584175,
          7337.462411005266,
          5992.684142669525,
          6861.841813756602,
          5517.4568361246365,
          4687.3312678713755,
          5244.223965614584,
          6098.407220683629,
          5539.978054207794,
          5644.552286645012,
          5666.368020665905,
          5086.374515846035,
          6380.91567846293,
          5567.11275396265,
          6298.430264198255,
          4064.008359759918,
          2685.6629912897997,
          2658.2975017239996,
          5599.274846074156,
          6393.584858504244,
          5058.593260676149,
          3532.750550096707,
          6026.370077872553,
          4575.315312500272,
          6399.6795013389,
          4076.1889404178023,
          4450.57258411324,
          5121.948253776998,
          5174.060198642412,
          5595.425013755243,
          6237.454829267941,
          4834.954016262215,
          5030.101276940076,
          5245.750184774914,
          6031.59770294742,
          5240.283887422061,
          3413.461285798179,
          3266.4705558115984,
          4727.079878527436,
          7033.8322674390665,
          5686.132099777832,
          4384.687445082082,
          4509.378968992936,
          4513.159188235653,
          5499.33924219725,
          5152.07747458481,
          6823.2532219947,
          5788.853750291174,
          5982.858062463156,
          5318.281844571087,
          5506.996438516337,
          4852.444506942649,
          4348.095844750873,
          4277.420175996693,
          4771.515278723625,
          3467.566430123222,
          5223.6421444650405,
          3374.2873062887616,
          5701.697567388542,
          4564.617535912253,
          6862.247568550062,
          5127.949297943514,
          4875.411844599679,
          4468.268199202184,
          7267.328447090962,
          5001.420588195519,
          6342.036887449032,
          5174.4703666073665,
          5711.628519863213,
          3078.895982492387,
          4688.370839749893,
          4638.724083111238,
          5468.743079867752,
          4012.215485337336,
          5401.821899173069,
          3500.5963142113806,
          6638.18955558653,
          5141.1013531258095,
          5049.606055105599,
          4129.181187750035,
          4370.467576915714,
          4923.281736972953,
          3399.1199087466703,
          5205.840127358381,
          6221.683197407632,
          4314.803831727295,
          4177.140252105044,
          6211.274367328162,
          5267.352326944864,
          5070.413063690274,
          5996.549301848854,
          6334.2431060429335,
          3424.0734017075038,
          5588.800471678806,
          3943.1172738218725,
          8154.200471910162,
          3973.9067969409925,
          3684.6952600892077,
          5556.6661625383185,
          7146.662700635196,
          4711.2857553524545,
          5713.442204003189,
          4273.2051301571955,
          4795.659468727196,
          6502.20765839998,
          6154.518340801139,
          5019.545227332754,
          3878.0739044405,
          5239.834348120343,
          5435.293660917677,
          5512.809747300326,
          5484.062321469938,
          4305.605568968243,
          7150.265776891149,
          5207.220968280951,
          5053.9745650978975,
          4039.0497266262214,
          6827.73658190339,
          4092.586673558618,
          4918.861045396687,
          2451.395705037182,
          5008.011891703144,
          5122.298324176326,
          3293.9261383034673,
          6791.1218548121105,
          4646.423182047715,
          4574.029857294046,
          3616.906745545873,
          5507.674338617668,
          5033.927141363293,
          4854.3733603157,
          4571.311395238494,
          6617.1432681760325,
          4760.726839204426,
          6074.108602891869,
          5692.091535965754,
          4906.821114529843,
          6716.389157420829,
          7423.3155530603235,
          4662.571681544213,
          4298.147977719963,
          5720.063891344352,
          2642.856238209561,
          1366.2174572861713,
          6401.496667099201
         ],
         "yaxis": "y"
        },
        {
         "customdata": [
          [
           33
          ],
          [
           37
          ],
          [
           31
          ],
          [
           36
          ],
          [
           33
          ],
          [
           35
          ],
          [
           31
          ],
          [
           38
          ],
          [
           31
          ],
          [
           36
          ],
          [
           36
          ],
          [
           31
          ],
          [
           39
          ],
          [
           38
          ],
          [
           29
          ],
          [
           36
          ],
          [
           37
          ],
          [
           44
          ],
          [
           37
          ],
          [
           34
          ],
          [
           35
          ],
          [
           37
          ],
          [
           33
          ],
          [
           37
          ],
          [
           84
          ],
          [
           33
          ],
          [
           31
          ],
          [
           33
          ],
          [
           29
          ],
          [
           26
          ],
          [
           24
          ],
          [
           39
          ],
          [
           36
          ],
          [
           33
          ],
          [
           31
          ],
          [
           29
          ],
          [
           40
          ],
          [
           42
          ],
          [
           35
          ],
          [
           36
          ],
          [
           34
          ],
          [
           28
          ],
          [
           84
          ],
          [
           34
          ],
          [
           31
          ],
          [
           88
          ],
          [
           35
          ],
          [
           43
          ],
          [
           25
          ],
          [
           37
          ],
          [
           33
          ],
          [
           31
          ],
          [
           29
          ],
          [
           59
          ],
          [
           35
          ],
          [
           38
          ],
          [
           31
          ],
          [
           33
          ],
          [
           30
          ],
          [
           39
          ],
          [
           34
          ],
          [
           30
          ],
          [
           30
          ],
          [
           36
          ],
          [
           37
          ],
          [
           35
          ],
          [
           33
          ],
          [
           34
          ],
          [
           30
          ],
          [
           30
          ],
          [
           28
          ],
          [
           33
          ],
          [
           34
          ],
          [
           28
          ],
          [
           31
          ],
          [
           28
          ],
          [
           33
          ],
          [
           32
          ],
          [
           30
          ],
          [
           36
          ],
          [
           85
          ],
          [
           29
          ],
          [
           36
          ],
          [
           31
          ],
          [
           33
          ],
          [
           31
          ],
          [
           30
          ],
          [
           31
          ],
          [
           34
          ],
          [
           32
          ],
          [
           33
          ],
          [
           86
          ],
          [
           30
          ],
          [
           35
          ],
          [
           33
          ],
          [
           30
          ],
          [
           32
          ],
          [
           37
          ],
          [
           31
          ],
          [
           38
          ],
          [
           28
          ],
          [
           27
          ],
          [
           32
          ],
          [
           29
          ],
          [
           30
          ],
          [
           28
          ],
          [
           28
          ],
          [
           84
          ],
          [
           34
          ],
          [
           22
          ],
          [
           32
          ],
          [
           25
          ],
          [
           31
          ],
          [
           36
          ],
          [
           29
          ],
          [
           37
          ],
          [
           29
          ],
          [
           29
          ],
          [
           29
          ],
          [
           35
          ],
          [
           34
          ],
          [
           35
          ],
          [
           31
          ],
          [
           34
          ],
          [
           32
          ],
          [
           31
          ],
          [
           31
          ],
          [
           30
          ],
          [
           35
          ],
          [
           37
          ]
         ],
         "hovertemplate": "Cluster=Cluster 1<br>PCA1=%{x}<br>PCA2=%{y}<br>Feature=%{customdata[0]}<extra></extra>",
         "legendgroup": "Cluster 1",
         "marker": {
          "color": "#EF553B",
          "opacity": 0.5,
          "symbol": "circle"
         },
         "mode": "markers",
         "name": "Cluster 1",
         "orientation": "v",
         "showlegend": true,
         "textposition": "top center",
         "type": "scatter",
         "x": [
          16918.67622592376,
          32912.89205445823,
          29210.556892903787,
          24491.38892446565,
          22258.608678229928,
          32691.869561885098,
          35187.91056050553,
          18943.372815329032,
          39135.376246859596,
          20592.34660124052,
          34060.87751097299,
          37228.73474929929,
          24819.36093398274,
          28960.634987007852,
          36813.76713471414,
          33203.842614913316,
          35023.21628615083,
          38938.11811665466,
          32289.540193394703,
          27456.913258989433,
          30806.77636569971,
          30949.636906806893,
          30046.489099008402,
          32853.06228404301,
          34834.90179722815,
          19295.26770077611,
          25732.344964588898,
          24613.75199474725,
          35036.715862905905,
          21973.30795777297,
          34815.25490758299,
          24706.128365431076,
          32210.979752849835,
          38869.64947043889,
          35758.27546112111,
          40673.859665726384,
          23032.680118427616,
          31253.468503847304,
          37194.90227154464,
          29861.54669189975,
          14006.00097376518,
          33379.420597244025,
          39513.27355052196,
          35572.71540214716,
          29240.50973646176,
          38847.16975192887,
          26003.522420593912,
          25938.050515546754,
          25765.79006643833,
          22105.03460663265,
          25328.06997513867,
          30148.68268283118,
          15764.4914229307,
          15177.31970279138,
          30155.334179480997,
          37939.71701022737,
          32416.939856368197,
          30584.124596856807,
          32797.643649460646,
          23470.847054512204,
          22393.417704629737,
          31911.001222896037,
          26298.148403025254,
          22350.769806170974,
          21900.78529345974,
          41298.63128492271,
          32561.02538427933,
          27758.387553781653,
          33217.926587281014,
          31614.44255775,
          24827.978797692223,
          40849.480601181145,
          31502.3603151694,
          36260.39987248517,
          32307.936747625576,
          19017.169490301174,
          23896.368797199048,
          26343.67868382357,
          24294.80848197437,
          23967.00614170644,
          35579.205841847695,
          26312.372969945685,
          26071.98119220341,
          25363.91919366973,
          36008.72534227601,
          31330.34395958773,
          20486.140681685338,
          40419.57667419347,
          23022.218288328808,
          32572.750284951726,
          31361.08525850118,
          39941.237372007,
          30614.165788924805,
          26578.153217150346,
          31045.220281184615,
          32149.92130246571,
          34753.14847117057,
          34830.86604526116,
          23748.677826025538,
          39399.40138079227,
          23858.598234856065,
          31016.952780284286,
          19785.994373705347,
          35711.080006300006,
          22224.556150677494,
          22236.169465667877,
          25474.402763132628,
          38543.62513846533,
          23196.21332168355,
          33345.15627446263,
          26023.566392701556,
          30950.101845843295,
          26983.04635508591,
          28639.385012252154,
          30268.70548102743,
          31202.412658451667,
          23392.942038336718,
          26228.376273797596,
          27412.691418946506,
          34360.48181343947,
          28627.25985634519,
          28912.895143562062,
          32345.708411108084,
          26507.042897939577,
          30836.978320912796,
          32322.908535523817,
          28681.5498712102,
          25376.693283330635,
          31317.298082396992,
          31960.7544708831
         ],
         "xaxis": "x",
         "y": [
          -2877.194182102226,
          -4588.664848267575,
          -6286.357858424542,
          -3378.5436476328696,
          -5195.925254869423,
          -6066.4571344577525,
          -4164.857943447225,
          -6099.926572904171,
          -4339.706610389611,
          -4611.58786570277,
          -5075.67817935254,
          -4575.537585729332,
          -6443.11685581786,
          -5439.902010858861,
          -4615.462129937938,
          -6552.892383943657,
          -4416.577014358726,
          -4443.170207612071,
          -3634.3416070178264,
          -4868.312310128513,
          -5560.204279339268,
          -4397.197247861159,
          -2733.1091736642984,
          -5910.59573288654,
          -5079.5408970026765,
          -3266.6498646156992,
          -4846.28015427884,
          -3288.4640447513398,
          -6415.699422707938,
          -5227.972192633888,
          -5108.281907469458,
          -6304.286669733974,
          -5806.362656038755,
          -4117.835744147897,
          -4122.47165904103,
          -5771.827355976941,
          -5461.17916779445,
          -4792.820646769851,
          -4030.4862142381508,
          -4210.49136349358,
          -1775.6048970799561,
          -4139.052833212809,
          -4805.682615179914,
          -4807.664945608783,
          -5240.7101050214205,
          -8209.639605398548,
          -3786.1338481571634,
          -4054.2525236210504,
          -4647.514683014747,
          -4346.187481501861,
          -4507.818639633955,
          -3727.6410744728196,
          -2149.152364399403,
          4253.670080185393,
          -6491.845587524797,
          -4683.4402679132145,
          -3316.8740951794716,
          -5198.652074260107,
          -5654.547208585239,
          -4720.2485683084515,
          -5150.747387385603,
          -2672.911587003681,
          -5023.0388936156805,
          -5405.192571717654,
          -5234.914564220789,
          -6422.065158701379,
          -5658.528738891307,
          -3524.6022728079934,
          -4387.405057818718,
          -3948.4132949879463,
          -5088.608026609532,
          -5591.430813146152,
          -5081.205828124805,
          -3890.3445341678885,
          -3401.0812051775492,
          -4587.056170558117,
          -4653.572749186023,
          -3863.0067104561263,
          -3156.1748108191528,
          -5918.695473496263,
          -6195.2560764504215,
          -4286.405352481009,
          -4687.76444193894,
          -6518.878337708812,
          -6111.705479451005,
          -5635.16399292634,
          -4804.203961851942,
          -6642.2340201420475,
          -4439.122431386044,
          -6711.005612774816,
          -4837.589777514413,
          -5237.495096676829,
          -4762.434742638737,
          -4542.181119259875,
          -4354.880238261399,
          -5508.945012028883,
          -4008.589273701794,
          -5377.228895403815,
          -4085.387714057352,
          -5202.090372452888,
          -4857.997405051621,
          -4865.004250775119,
          -4699.391881256257,
          -4543.480905662903,
          -5737.014106158459,
          -4400.042493871468,
          -4541.161734519421,
          -7198.06350009684,
          -5613.714696123642,
          -6080.2997846473045,
          -7172.334086297045,
          -6274.399316410813,
          -2897.4182757985104,
          -3130.9503738580543,
          -4917.675610318426,
          -4006.8812090056595,
          -5117.926531788415,
          -4266.484394821192,
          -5970.659385853913,
          -5038.816345608889,
          -3324.8164287585664,
          -5224.55432013296,
          -2201.7207440339225,
          -5484.674224534324,
          -4248.410776130161,
          -3681.2906989074827,
          -4194.112749071152,
          -3922.3289154774966,
          -6141.762968151074,
          -7950.138456796386
         ],
         "yaxis": "y"
        },
        {
         "customdata": [
          [
           84
          ],
          [
           84
          ],
          [
           86
          ],
          [
           94
          ],
          [
           90
          ],
          [
           82
          ],
          [
           90
          ],
          [
           87
          ],
          [
           91
          ],
          [
           87
          ],
          [
           92
          ],
          [
           86
          ],
          [
           97
          ],
          [
           91
          ],
          [
           84
          ],
          [
           91
          ],
          [
           92
          ],
          [
           83
          ],
          [
           83
          ],
          [
           83
          ],
          [
           93
          ],
          [
           87
          ],
          [
           89
          ],
          [
           88
          ],
          [
           94
          ],
          [
           90
          ],
          [
           89
          ],
          [
           85
          ],
          [
           87
          ],
          [
           79
          ],
          [
           82
          ],
          [
           87
          ],
          [
           92
          ],
          [
           88
          ],
          [
           87
          ],
          [
           91
          ],
          [
           86
          ],
          [
           82
          ],
          [
           90
          ],
          [
           87
          ],
          [
           84
          ],
          [
           86
          ],
          [
           88
          ],
          [
           91
          ],
          [
           91
          ],
          [
           84
          ],
          [
           87
          ],
          [
           90
          ],
          [
           87
          ],
          [
           89
          ],
          [
           83
          ],
          [
           94
          ],
          [
           84
          ],
          [
           79
          ],
          [
           86
          ],
          [
           85
          ],
          [
           92
          ],
          [
           89
          ],
          [
           92
          ],
          [
           86
          ],
          [
           85
          ],
          [
           92
          ],
          [
           84
          ],
          [
           87
          ],
          [
           88
          ],
          [
           87
          ],
          [
           88
          ],
          [
           95
          ],
          [
           89
          ],
          [
           86
          ],
          [
           85
          ],
          [
           87
          ],
          [
           89
          ],
          [
           89
          ],
          [
           85
          ],
          [
           92
          ],
          [
           83
          ],
          [
           91
          ],
          [
           84
          ],
          [
           81
          ],
          [
           91
          ],
          [
           91
          ],
          [
           82
          ],
          [
           83
          ],
          [
           89
          ],
          [
           82
          ],
          [
           93
          ],
          [
           87
          ],
          [
           84
          ],
          [
           88
          ],
          [
           84
          ],
          [
           88
          ],
          [
           91
          ],
          [
           90
          ],
          [
           88
          ],
          [
           85
          ],
          [
           89
          ],
          [
           88
          ],
          [
           91
          ],
          [
           85
          ],
          [
           94
          ],
          [
           85
          ],
          [
           83
          ],
          [
           88
          ],
          [
           85
          ],
          [
           89
          ],
          [
           92
          ],
          [
           94
          ],
          [
           85
          ],
          [
           88
          ],
          [
           94
          ],
          [
           86
          ],
          [
           83
          ],
          [
           91
          ],
          [
           88
          ],
          [
           90
          ],
          [
           91
          ],
          [
           84
          ],
          [
           87
          ],
          [
           91
          ],
          [
           85
          ],
          [
           87
          ],
          [
           91
          ],
          [
           94
          ],
          [
           88
          ],
          [
           84
          ],
          [
           90
          ],
          [
           91
          ],
          [
           87
          ],
          [
           88
          ],
          [
           91
          ],
          [
           86
          ],
          [
           87
          ],
          [
           89
          ],
          [
           93
          ],
          [
           90
          ],
          [
           88
          ],
          [
           83
          ],
          [
           89
          ],
          [
           87
          ],
          [
           83
          ],
          [
           84
          ],
          [
           91
          ],
          [
           90
          ],
          [
           90
          ],
          [
           88
          ],
          [
           88
          ]
         ],
         "hovertemplate": "Cluster=Cluster 2<br>PCA1=%{x}<br>PCA2=%{y}<br>Feature=%{customdata[0]}<extra></extra>",
         "legendgroup": "Cluster 2",
         "marker": {
          "color": "#00cc96",
          "opacity": 0.5,
          "symbol": "circle"
         },
         "mode": "markers",
         "name": "Cluster 2",
         "orientation": "v",
         "showlegend": true,
         "textposition": "top center",
         "type": "scatter",
         "x": [
          -45243.33594590514,
          -51590.97204811319,
          -52219.788910884476,
          -56820.0875140013,
          -52877.3816233098,
          -42172.09137421166,
          -40392.52356154925,
          -45889.16122740456,
          -47591.22513143464,
          -52745.271954827644,
          -56895.33601319736,
          -56854.24492927824,
          -48338.70468800098,
          -44891.72695125937,
          -39255.47389259959,
          -46108.56437415354,
          -39730.75490897849,
          -45148.06214368704,
          -57495.8274929488,
          -48890.16206340343,
          -55837.8961900049,
          -57945.29404961141,
          -53680.72060591254,
          -53103.84792851194,
          -51858.95285548031,
          -38257.012480306796,
          -47490.05336010276,
          -53905.330812432716,
          -49083.98900640705,
          -43219.57063844724,
          -51335.696316784815,
          -59885.18347781839,
          -40276.44812098461,
          -44316.39099715636,
          -44207.36922040726,
          -52957.61627730344,
          -60035.35569518889,
          -42152.50284228484,
          -51240.794671401614,
          -45592.6627079439,
          -55003.114748713175,
          -48031.600303378495,
          -57888.98693996803,
          -48496.84791008094,
          -47000.17167428394,
          -48329.375170552485,
          -50055.78755676456,
          -46621.675172876676,
          -33223.78792540312,
          -50446.687207783834,
          -41229.08531754966,
          -36822.88273567963,
          -48086.471598016644,
          -37510.588057403605,
          -39708.646986385145,
          -47211.30922838364,
          -42194.79875082265,
          -41047.37638673448,
          -53120.54075530764,
          -46897.28721880452,
          -54413.15852823442,
          -53329.08892211864,
          -48469.758247375095,
          -51191.18314121462,
          -42334.04764915757,
          -49618.56426624695,
          -42594.243035417465,
          -48754.55326230384,
          -49610.675017215355,
          -28705.212825263377,
          -47927.75616068909,
          -49952.5638700749,
          -55368.98425714015,
          -56491.726179656915,
          -46522.91946866407,
          -39882.023288280245,
          -41183.65208626926,
          -49855.36019377393,
          -48254.00620956814,
          -41272.89535426135,
          -55116.8359872105,
          -58771.33010005764,
          -51459.5135250055,
          -45053.5011408212,
          -42432.64512102195,
          -43231.47785779808,
          -55300.438368619994,
          -57176.867807581635,
          -46294.69656360343,
          -49640.51628007664,
          -33685.82301953531,
          -41654.285397114145,
          -46752.171898183005,
          -42382.69882279963,
          -47339.947344929176,
          -41090.432743024765,
          -51006.62594962387,
          -46888.40588576988,
          -45489.120008583406,
          -47271.41327800888,
          -54957.49097653029,
          -44945.69896471386,
          -47148.04952513189,
          -58306.89374562322,
          -40907.25151543582,
          -44680.893553642534,
          -42805.17470565503,
          -47366.64942872541,
          -49427.52412175892,
          -47129.84416116472,
          -47975.62988585305,
          -39916.590611805936,
          -52508.30352712909,
          -38870.67259289514,
          -56178.67329217838,
          -45508.35391168649,
          -50504.82310462916,
          -37730.76929457196,
          -28723.99191856933,
          -48867.334253339635,
          -46206.76075642491,
          -44821.27196488112,
          -51304.42078363727,
          -48448.18983149925,
          -49206.07300463822,
          -57516.273141569836,
          -53514.36611000956,
          -39063.286664840634,
          -63656.34761270813,
          -40724.1568458452,
          -63634.72202883472,
          -43811.47260914548,
          -45504.928192674866,
          -48762.364713996045,
          -58127.503834469964,
          -42253.87288275524,
          -43012.76980619302,
          -47072.83269048481,
          -45316.58138942742,
          -52350.13687817331,
          -42546.309247475176,
          -53484.990433740575,
          -49274.442395738704,
          -50029.04864430803,
          -42485.19893881771,
          -57750.75775521807,
          -48459.57886574739
         ],
         "xaxis": "x",
         "y": [
          -2386.743820284302,
          -1709.6808347140889,
          -361.8229000741427,
          -2626.494091038499,
          -1034.045904678543,
          -3482.950082631111,
          -1918.0710771595072,
          -3656.8597514538706,
          -2876.017194198107,
          -3270.249333202927,
          -219.8354611527129,
          -1039.8872367476183,
          -296.9483635317873,
          -1059.5101766806479,
          -2456.0629583842874,
          -4704.899979069116,
          -3215.3115156639406,
          -918.4435120938806,
          -874.5934065316538,
          -3117.0439521319913,
          -2913.1509550389605,
          -1690.2242432392875,
          -1523.1535588510794,
          -1838.664935156399,
          -1998.3145888103263,
          -3209.7049807914996,
          -1025.6554152768,
          776.7212819595686,
          -2706.953602076428,
          -982.6375502407419,
          -2253.324181988863,
          968.1817045075691,
          -3159.4029087705617,
          -1681.1081908254462,
          -1788.5954480508221,
          -512.1679220763331,
          -2067.784524904225,
          -3595.4269201600105,
          -337.58306102870506,
          -1858.7414429497262,
          -1806.371885376259,
          -2520.8790742990213,
          -2297.4104831044374,
          -1255.0228766467972,
          -3258.5921511823535,
          -2106.9557066643074,
          -458.73281868832424,
          -1061.3925460477678,
          -4327.5997846590835,
          -1789.8301942200414,
          -559.8885893852706,
          -3004.136044051581,
          -3267.664257900952,
          -2385.931492912864,
          -2812.640793364644,
          -497.02890750722514,
          -2831.2452680158362,
          163.00824757784534,
          -2373.907682943562,
          -1500.6000118770828,
          -1055.9964673992297,
          -3704.1154622013432,
          -975.0114136119711,
          -2999.048697401421,
          -946.4423236598785,
          -1200.498978591493,
          -4573.136558318873,
          -3476.7582415328575,
          -2494.346157927881,
          -2125.516560546753,
          1139.0675913831205,
          -1016.3629330534919,
          -990.6072888551712,
          -1529.9498518651951,
          -2395.1514908507797,
          -3145.8380799741603,
          -2299.17784778794,
          -2551.640176025431,
          -3586.392580330953,
          -2039.0522118035885,
          -3386.630871370055,
          -1946.425647320714,
          -1443.6315773519361,
          -3267.8529257017826,
          -2804.317989764121,
          -2464.365635646983,
          -2379.4456307220707,
          -500.38226527672975,
          -3445.1414430350624,
          -2403.4517367005983,
          -2359.9807573111725,
          -1284.2768049213948,
          -4260.668084206518,
          -1026.217679534702,
          -2756.2106649257616,
          -2507.4686024831617,
          1229.6345018341212,
          -1747.2843051407008,
          -857.2362973575499,
          -1422.2632977402077,
          -1273.033886498742,
          -2663.4354555556224,
          -948.1703671149718,
          -1498.307156812349,
          -2247.723767110278,
          -3320.2389025799553,
          -2383.923812810523,
          -2226.5245221788286,
          -3282.4965395289937,
          -2166.945504634238,
          -2697.480521875641,
          -5860.4070049476195,
          -2003.379466663109,
          -4966.632164446517,
          -1450.7322712124173,
          -1716.0962167717566,
          -2541.1034297579586,
          -3447.522083521276,
          -1283.2493348069167,
          -3330.0956203911082,
          -3972.4381382736638,
          -809.2480282398326,
          -1341.6420338652326,
          -424.4946391842389,
          646.5434219075405,
          -2662.237205665568,
          -3511.6510358173878,
          -2178.951078899759,
          -672.130776142061,
          -3403.354334610766,
          -958.5370357661094,
          -3844.050469725095,
          -1656.4246533860942,
          -1902.3045662332286,
          -3329.4235557220804,
          -2813.408968099347,
          -2388.397928565649,
          -3652.142734722459,
          72.3421776336518,
          -1271.8366522528788,
          -2323.954352739612,
          -2964.8709350520144,
          -1819.1411226436476,
          -2907.7976923646906,
          -1573.129493106877,
          -1546.7861986769096,
          -623.0250548560492
         ],
         "yaxis": "y"
        },
        {
         "customdata": [
          [
           83
          ],
          [
           86
          ],
          [
           18
          ],
          [
           23
          ],
          [
           29
          ],
          [
           20
          ],
          [
           28
          ],
          [
           24
          ],
          [
           25
          ],
          [
           25
          ],
          [
           32
          ],
          [
           28
          ],
          [
           83
          ],
          [
           25
          ],
          [
           26
          ],
          [
           28
          ],
          [
           22
          ],
          [
           20
          ],
          [
           25
          ],
          [
           24
          ],
          [
           91
          ],
          [
           22
          ],
          [
           82
          ],
          [
           34
          ],
          [
           77
          ],
          [
           24
          ],
          [
           17
          ],
          [
           82
          ],
          [
           26
          ],
          [
           20
          ],
          [
           26
          ],
          [
           21
          ],
          [
           18
          ],
          [
           30
          ],
          [
           85
          ],
          [
           89
          ],
          [
           83
          ],
          [
           87
          ],
          [
           90
          ],
          [
           23
          ],
          [
           28
          ],
          [
           88
          ],
          [
           29
          ],
          [
           90
          ],
          [
           84
          ],
          [
           29
          ],
          [
           23
          ],
          [
           23
          ],
          [
           86
          ],
          [
           25
          ],
          [
           17
          ],
          [
           24
          ],
          [
           22
          ],
          [
           24
          ],
          [
           24
          ],
          [
           27
          ],
          [
           31
          ],
          [
           21
          ],
          [
           28
          ],
          [
           25
          ],
          [
           17
          ],
          [
           17
          ],
          [
           93
          ],
          [
           28
          ],
          [
           29
          ],
          [
           27
          ],
          [
           92
          ],
          [
           88
          ],
          [
           26
          ],
          [
           24
          ],
          [
           27
          ],
          [
           26
          ]
         ],
         "hovertemplate": "Cluster=Cluster 3<br>PCA1=%{x}<br>PCA2=%{y}<br>Feature=%{customdata[0]}<extra></extra>",
         "legendgroup": "Cluster 3",
         "marker": {
          "color": "#ab63fa",
          "opacity": 0.5,
          "symbol": "circle"
         },
         "mode": "markers",
         "name": "Cluster 3",
         "orientation": "v",
         "showlegend": true,
         "textposition": "top center",
         "type": "scatter",
         "x": [
          42157.80543094878,
          52679.1374393651,
          55587.35172793509,
          45049.7130232395,
          56449.67813276757,
          53899.23405406338,
          41933.87633764405,
          55795.997910100516,
          45728.40113927225,
          55783.42885409028,
          41328.25268046835,
          53924.597041867346,
          43629.01274005914,
          62912.45710039269,
          52086.380659501956,
          46000.80248340853,
          45302.57091364995,
          47415.389155965226,
          53422.55247996484,
          53976.78999307679,
          43084.43131856262,
          57857.28905314985,
          45920.30382555988,
          44074.74433395844,
          52844.21452066909,
          52263.49411048382,
          59803.04557597502,
          50433.85140507419,
          51532.47005468584,
          54230.311428764595,
          47842.883669132345,
          48602.571103509596,
          48551.89778988757,
          47549.76255316084,
          42414.13983525132,
          43861.74707162001,
          41580.271741364115,
          41859.15436607788,
          42045.79572232818,
          54778.91990697277,
          48029.23597884723,
          44952.902047180134,
          47210.6112882645,
          48410.00928895815,
          46993.64107086383,
          43600.21620721053,
          63317.06653029425,
          51395.22435586334,
          48577.245951971636,
          55809.60824754346,
          61085.16181816627,
          59239.853521225945,
          58984.55028389012,
          45280.29646688091,
          61617.256018538974,
          49923.232400591754,
          47836.44838887488,
          54542.56027032773,
          52465.03358530214,
          55168.451536622706,
          48697.32854572943,
          59798.17481891004,
          50874.59371963917,
          48281.96476028121,
          66750.62107639133,
          47518.88132347982,
          47182.06860121166,
          47964.55228506114,
          50397.083884591404,
          59196.59307835412,
          46271.749974439655,
          56651.45548631956
         ],
         "xaxis": "x",
         "y": [
          -5954.4545753329285,
          -4749.056737128191,
          3427.135170171347,
          4590.872356292773,
          5101.398631128977,
          3176.7468047467946,
          4717.997031231376,
          4252.897482631877,
          3658.3064353496716,
          4732.087674705491,
          -4823.645609095859,
          5765.842917677416,
          -6254.8409403180585,
          5261.355290099561,
          3388.4270675204816,
          3884.452852169687,
          3778.1816093851307,
          4709.388721993278,
          3894.235404068598,
          5488.389848804964,
          -4660.855325409057,
          5717.501103769997,
          -4953.921494062021,
          -6307.66895759292,
          -5677.667836398253,
          5916.358116348494,
          8450.307548937864,
          -6854.205790290357,
          6006.733800938242,
          3238.428937484126,
          4758.188583448417,
          6249.537248101816,
          4668.214701347181,
          3437.8966252972828,
          -5432.281984340315,
          -6877.03623716374,
          -5615.560841025152,
          -4543.326342656836,
          -3106.1031340528007,
          4629.791345722701,
          5422.323715263647,
          -4985.514604349081,
          6674.234783135649,
          -5693.6654779806495,
          -4647.129392602872,
          -5657.478374018924,
          4946.177503380891,
          5657.241523409536,
          -6305.307643166639,
          3879.1495425780886,
          4243.72180398018,
          4745.144493284458,
          3350.7117975359834,
          4437.356755042894,
          6726.313729421173,
          6048.724076369265,
          6059.983303443474,
          4193.883189681694,
          3371.5330641923224,
          4016.98150083946,
          5282.497861655179,
          4315.751653167787,
          -5178.053057007961,
          8499.966919747441,
          2693.008067325201,
          4941.999476017804,
          -4557.716265875758,
          -4397.185708241023,
          2890.5507602719604,
          3903.9748137910674,
          4207.4145383623145,
          4271.292256835256
         ],
         "yaxis": "y"
        }
       ],
       "layout": {
        "height": 600,
        "legend": {
         "title": {
          "text": "Cluster"
         },
         "tracegroupgap": 0
        },
        "margin": {
         "t": 60
        },
        "plot_bgcolor": "rgb(240,240,240)",
        "template": {
         "data": {
          "bar": [
           {
            "error_x": {
             "color": "#2a3f5f"
            },
            "error_y": {
             "color": "#2a3f5f"
            },
            "marker": {
             "line": {
              "color": "#E5ECF6",
              "width": 0.5
             },
             "pattern": {
              "fillmode": "overlay",
              "size": 10,
              "solidity": 0.2
             }
            },
            "type": "bar"
           }
          ],
          "barpolar": [
           {
            "marker": {
             "line": {
              "color": "#E5ECF6",
              "width": 0.5
             },
             "pattern": {
              "fillmode": "overlay",
              "size": 10,
              "solidity": 0.2
             }
            },
            "type": "barpolar"
           }
          ],
          "carpet": [
           {
            "aaxis": {
             "endlinecolor": "#2a3f5f",
             "gridcolor": "white",
             "linecolor": "white",
             "minorgridcolor": "white",
             "startlinecolor": "#2a3f5f"
            },
            "baxis": {
             "endlinecolor": "#2a3f5f",
             "gridcolor": "white",
             "linecolor": "white",
             "minorgridcolor": "white",
             "startlinecolor": "#2a3f5f"
            },
            "type": "carpet"
           }
          ],
          "choropleth": [
           {
            "colorbar": {
             "outlinewidth": 0,
             "ticks": ""
            },
            "type": "choropleth"
           }
          ],
          "contour": [
           {
            "colorbar": {
             "outlinewidth": 0,
             "ticks": ""
            },
            "colorscale": [
             [
              0,
              "#0d0887"
             ],
             [
              0.1111111111111111,
              "#46039f"
             ],
             [
              0.2222222222222222,
              "#7201a8"
             ],
             [
              0.3333333333333333,
              "#9c179e"
             ],
             [
              0.4444444444444444,
              "#bd3786"
             ],
             [
              0.5555555555555556,
              "#d8576b"
             ],
             [
              0.6666666666666666,
              "#ed7953"
             ],
             [
              0.7777777777777778,
              "#fb9f3a"
             ],
             [
              0.8888888888888888,
              "#fdca26"
             ],
             [
              1,
              "#f0f921"
             ]
            ],
            "type": "contour"
           }
          ],
          "contourcarpet": [
           {
            "colorbar": {
             "outlinewidth": 0,
             "ticks": ""
            },
            "type": "contourcarpet"
           }
          ],
          "heatmap": [
           {
            "colorbar": {
             "outlinewidth": 0,
             "ticks": ""
            },
            "colorscale": [
             [
              0,
              "#0d0887"
             ],
             [
              0.1111111111111111,
              "#46039f"
             ],
             [
              0.2222222222222222,
              "#7201a8"
             ],
             [
              0.3333333333333333,
              "#9c179e"
             ],
             [
              0.4444444444444444,
              "#bd3786"
             ],
             [
              0.5555555555555556,
              "#d8576b"
             ],
             [
              0.6666666666666666,
              "#ed7953"
             ],
             [
              0.7777777777777778,
              "#fb9f3a"
             ],
             [
              0.8888888888888888,
              "#fdca26"
             ],
             [
              1,
              "#f0f921"
             ]
            ],
            "type": "heatmap"
           }
          ],
          "heatmapgl": [
           {
            "colorbar": {
             "outlinewidth": 0,
             "ticks": ""
            },
            "colorscale": [
             [
              0,
              "#0d0887"
             ],
             [
              0.1111111111111111,
              "#46039f"
             ],
             [
              0.2222222222222222,
              "#7201a8"
             ],
             [
              0.3333333333333333,
              "#9c179e"
             ],
             [
              0.4444444444444444,
              "#bd3786"
             ],
             [
              0.5555555555555556,
              "#d8576b"
             ],
             [
              0.6666666666666666,
              "#ed7953"
             ],
             [
              0.7777777777777778,
              "#fb9f3a"
             ],
             [
              0.8888888888888888,
              "#fdca26"
             ],
             [
              1,
              "#f0f921"
             ]
            ],
            "type": "heatmapgl"
           }
          ],
          "histogram": [
           {
            "marker": {
             "pattern": {
              "fillmode": "overlay",
              "size": 10,
              "solidity": 0.2
             }
            },
            "type": "histogram"
           }
          ],
          "histogram2d": [
           {
            "colorbar": {
             "outlinewidth": 0,
             "ticks": ""
            },
            "colorscale": [
             [
              0,
              "#0d0887"
             ],
             [
              0.1111111111111111,
              "#46039f"
             ],
             [
              0.2222222222222222,
              "#7201a8"
             ],
             [
              0.3333333333333333,
              "#9c179e"
             ],
             [
              0.4444444444444444,
              "#bd3786"
             ],
             [
              0.5555555555555556,
              "#d8576b"
             ],
             [
              0.6666666666666666,
              "#ed7953"
             ],
             [
              0.7777777777777778,
              "#fb9f3a"
             ],
             [
              0.8888888888888888,
              "#fdca26"
             ],
             [
              1,
              "#f0f921"
             ]
            ],
            "type": "histogram2d"
           }
          ],
          "histogram2dcontour": [
           {
            "colorbar": {
             "outlinewidth": 0,
             "ticks": ""
            },
            "colorscale": [
             [
              0,
              "#0d0887"
             ],
             [
              0.1111111111111111,
              "#46039f"
             ],
             [
              0.2222222222222222,
              "#7201a8"
             ],
             [
              0.3333333333333333,
              "#9c179e"
             ],
             [
              0.4444444444444444,
              "#bd3786"
             ],
             [
              0.5555555555555556,
              "#d8576b"
             ],
             [
              0.6666666666666666,
              "#ed7953"
             ],
             [
              0.7777777777777778,
              "#fb9f3a"
             ],
             [
              0.8888888888888888,
              "#fdca26"
             ],
             [
              1,
              "#f0f921"
             ]
            ],
            "type": "histogram2dcontour"
           }
          ],
          "mesh3d": [
           {
            "colorbar": {
             "outlinewidth": 0,
             "ticks": ""
            },
            "type": "mesh3d"
           }
          ],
          "parcoords": [
           {
            "line": {
             "colorbar": {
              "outlinewidth": 0,
              "ticks": ""
             }
            },
            "type": "parcoords"
           }
          ],
          "pie": [
           {
            "automargin": true,
            "type": "pie"
           }
          ],
          "scatter": [
           {
            "fillpattern": {
             "fillmode": "overlay",
             "size": 10,
             "solidity": 0.2
            },
            "type": "scatter"
           }
          ],
          "scatter3d": [
           {
            "line": {
             "colorbar": {
              "outlinewidth": 0,
              "ticks": ""
             }
            },
            "marker": {
             "colorbar": {
              "outlinewidth": 0,
              "ticks": ""
             }
            },
            "type": "scatter3d"
           }
          ],
          "scattercarpet": [
           {
            "marker": {
             "colorbar": {
              "outlinewidth": 0,
              "ticks": ""
             }
            },
            "type": "scattercarpet"
           }
          ],
          "scattergeo": [
           {
            "marker": {
             "colorbar": {
              "outlinewidth": 0,
              "ticks": ""
             }
            },
            "type": "scattergeo"
           }
          ],
          "scattergl": [
           {
            "marker": {
             "colorbar": {
              "outlinewidth": 0,
              "ticks": ""
             }
            },
            "type": "scattergl"
           }
          ],
          "scattermapbox": [
           {
            "marker": {
             "colorbar": {
              "outlinewidth": 0,
              "ticks": ""
             }
            },
            "type": "scattermapbox"
           }
          ],
          "scatterpolar": [
           {
            "marker": {
             "colorbar": {
              "outlinewidth": 0,
              "ticks": ""
             }
            },
            "type": "scatterpolar"
           }
          ],
          "scatterpolargl": [
           {
            "marker": {
             "colorbar": {
              "outlinewidth": 0,
              "ticks": ""
             }
            },
            "type": "scatterpolargl"
           }
          ],
          "scatterternary": [
           {
            "marker": {
             "colorbar": {
              "outlinewidth": 0,
              "ticks": ""
             }
            },
            "type": "scatterternary"
           }
          ],
          "surface": [
           {
            "colorbar": {
             "outlinewidth": 0,
             "ticks": ""
            },
            "colorscale": [
             [
              0,
              "#0d0887"
             ],
             [
              0.1111111111111111,
              "#46039f"
             ],
             [
              0.2222222222222222,
              "#7201a8"
             ],
             [
              0.3333333333333333,
              "#9c179e"
             ],
             [
              0.4444444444444444,
              "#bd3786"
             ],
             [
              0.5555555555555556,
              "#d8576b"
             ],
             [
              0.6666666666666666,
              "#ed7953"
             ],
             [
              0.7777777777777778,
              "#fb9f3a"
             ],
             [
              0.8888888888888888,
              "#fdca26"
             ],
             [
              1,
              "#f0f921"
             ]
            ],
            "type": "surface"
           }
          ],
          "table": [
           {
            "cells": {
             "fill": {
              "color": "#EBF0F8"
             },
             "line": {
              "color": "white"
             }
            },
            "header": {
             "fill": {
              "color": "#C8D4E3"
             },
             "line": {
              "color": "white"
             }
            },
            "type": "table"
           }
          ]
         },
         "layout": {
          "annotationdefaults": {
           "arrowcolor": "#2a3f5f",
           "arrowhead": 0,
           "arrowwidth": 1
          },
          "autotypenumbers": "strict",
          "coloraxis": {
           "colorbar": {
            "outlinewidth": 0,
            "ticks": ""
           }
          },
          "colorscale": {
           "diverging": [
            [
             0,
             "#8e0152"
            ],
            [
             0.1,
             "#c51b7d"
            ],
            [
             0.2,
             "#de77ae"
            ],
            [
             0.3,
             "#f1b6da"
            ],
            [
             0.4,
             "#fde0ef"
            ],
            [
             0.5,
             "#f7f7f7"
            ],
            [
             0.6,
             "#e6f5d0"
            ],
            [
             0.7,
             "#b8e186"
            ],
            [
             0.8,
             "#7fbc41"
            ],
            [
             0.9,
             "#4d9221"
            ],
            [
             1,
             "#276419"
            ]
           ],
           "sequential": [
            [
             0,
             "#0d0887"
            ],
            [
             0.1111111111111111,
             "#46039f"
            ],
            [
             0.2222222222222222,
             "#7201a8"
            ],
            [
             0.3333333333333333,
             "#9c179e"
            ],
            [
             0.4444444444444444,
             "#bd3786"
            ],
            [
             0.5555555555555556,
             "#d8576b"
            ],
            [
             0.6666666666666666,
             "#ed7953"
            ],
            [
             0.7777777777777778,
             "#fb9f3a"
            ],
            [
             0.8888888888888888,
             "#fdca26"
            ],
            [
             1,
             "#f0f921"
            ]
           ],
           "sequentialminus": [
            [
             0,
             "#0d0887"
            ],
            [
             0.1111111111111111,
             "#46039f"
            ],
            [
             0.2222222222222222,
             "#7201a8"
            ],
            [
             0.3333333333333333,
             "#9c179e"
            ],
            [
             0.4444444444444444,
             "#bd3786"
            ],
            [
             0.5555555555555556,
             "#d8576b"
            ],
            [
             0.6666666666666666,
             "#ed7953"
            ],
            [
             0.7777777777777778,
             "#fb9f3a"
            ],
            [
             0.8888888888888888,
             "#fdca26"
            ],
            [
             1,
             "#f0f921"
            ]
           ]
          },
          "colorway": [
           "#636efa",
           "#EF553B",
           "#00cc96",
           "#ab63fa",
           "#FFA15A",
           "#19d3f3",
           "#FF6692",
           "#B6E880",
           "#FF97FF",
           "#FECB52"
          ],
          "font": {
           "color": "#2a3f5f"
          },
          "geo": {
           "bgcolor": "white",
           "lakecolor": "white",
           "landcolor": "#E5ECF6",
           "showlakes": true,
           "showland": true,
           "subunitcolor": "white"
          },
          "hoverlabel": {
           "align": "left"
          },
          "hovermode": "closest",
          "mapbox": {
           "style": "light"
          },
          "paper_bgcolor": "white",
          "plot_bgcolor": "#E5ECF6",
          "polar": {
           "angularaxis": {
            "gridcolor": "white",
            "linecolor": "white",
            "ticks": ""
           },
           "bgcolor": "#E5ECF6",
           "radialaxis": {
            "gridcolor": "white",
            "linecolor": "white",
            "ticks": ""
           }
          },
          "scene": {
           "xaxis": {
            "backgroundcolor": "#E5ECF6",
            "gridcolor": "white",
            "gridwidth": 2,
            "linecolor": "white",
            "showbackground": true,
            "ticks": "",
            "zerolinecolor": "white"
           },
           "yaxis": {
            "backgroundcolor": "#E5ECF6",
            "gridcolor": "white",
            "gridwidth": 2,
            "linecolor": "white",
            "showbackground": true,
            "ticks": "",
            "zerolinecolor": "white"
           },
           "zaxis": {
            "backgroundcolor": "#E5ECF6",
            "gridcolor": "white",
            "gridwidth": 2,
            "linecolor": "white",
            "showbackground": true,
            "ticks": "",
            "zerolinecolor": "white"
           }
          },
          "shapedefaults": {
           "line": {
            "color": "#2a3f5f"
           }
          },
          "ternary": {
           "aaxis": {
            "gridcolor": "white",
            "linecolor": "white",
            "ticks": ""
           },
           "baxis": {
            "gridcolor": "white",
            "linecolor": "white",
            "ticks": ""
           },
           "bgcolor": "#E5ECF6",
           "caxis": {
            "gridcolor": "white",
            "linecolor": "white",
            "ticks": ""
           }
          },
          "title": {
           "x": 0.05
          },
          "xaxis": {
           "automargin": true,
           "gridcolor": "white",
           "linecolor": "white",
           "ticks": "",
           "title": {
            "standoff": 15
           },
           "zerolinecolor": "white",
           "zerolinewidth": 2
          },
          "yaxis": {
           "automargin": true,
           "gridcolor": "white",
           "linecolor": "white",
           "ticks": "",
           "title": {
            "standoff": 15
           },
           "zerolinecolor": "white",
           "zerolinewidth": 2
          }
         }
        },
        "title": {
         "text": "2D Cluster PCA Plot"
        },
        "xaxis": {
         "anchor": "y",
         "domain": [
          0,
          1
         ],
         "title": {
          "text": "PCA1"
         }
        },
        "yaxis": {
         "anchor": "x",
         "domain": [
          0,
          1
         ],
         "title": {
          "text": "PCA2"
         }
        }
       }
      }
     },
     "metadata": {},
     "output_type": "display_data"
    }
   ],
   "source": [
    "plot_model(kmeans)"
   ]
  },
  {
   "cell_type": "code",
   "execution_count": 128,
   "metadata": {},
   "outputs": [
    {
     "data": {
      "application/vnd.jupyter.widget-view+json": {
       "model_id": "74ac2ba4bcec44d5b2a0b5575019e5aa",
       "version_major": 2,
       "version_minor": 0
      },
      "text/plain": [
       "interactive(children=(ToggleButtons(description='Plot Type:', icons=('',), options=(('Pipeline Plot', 'pipelin…"
      ]
     },
     "metadata": {},
     "output_type": "display_data"
    }
   ],
   "source": [
    "evaluate_model(kmeans)"
   ]
  },
  {
   "cell_type": "code",
   "execution_count": 137,
   "metadata": {},
   "outputs": [
    {
     "name": "stdout",
     "output_type": "stream",
     "text": [
      "                 Age         Income  SpendingScore       Savings\n",
      "Cluster                                                         \n",
      "Cluster 0  59.961538   72332.846154       0.771296   6890.893555\n",
      "Cluster 1  35.423077  105228.392308       0.302153  14937.836914\n",
      "Cluster 2  87.775510   27866.102041       0.328800  16659.261719\n",
      "Cluster 3  40.875000  126031.666667       0.654598   7287.926270\n"
     ]
    }
   ],
   "source": [
    "from pycaret.clustering import assign_model\n",
    "\n",
    "# Assigner les clusters aux données d'origine\n",
    "clustered_data = assign_model(kmeans)\n",
    "\n",
    "# Afficher les statistiques moyennes par cluster\n",
    "cluster_info = clustered_data.groupby('Cluster').mean()\n",
    "print(cluster_info)\n"
   ]
  },
  {
   "cell_type": "markdown",
   "metadata": {},
   "source": [
    "- Cluster 0: Older individuals with an average income and a high propensity to spend.\n",
    "- Cluster 1: Young professionals with high income, but higher savings and moderate consumption.\n",
    "- Cluster 2: Retirees with low income but high savings, and low consumption.\n",
    "- Cluster 3: Wealthy profiles with very high income and moderate to high consumption."
   ]
  },
  {
   "cell_type": "code",
   "execution_count": 130,
   "metadata": {},
   "outputs": [],
   "source": [
    "unseen_predictions = predict_model(kmeans, data=data_unseen)\n",
    "unseen_predictions.to_csv(\"test.csv\",index=False)"
   ]
  },
  {
   "cell_type": "markdown",
   "metadata": {},
   "source": [
    "## 7. Making predictions"
   ]
  },
  {
   "cell_type": "markdown",
   "metadata": {},
   "source": [
    "The **predict_model()** function is used to assign cluster labels to a new unseen dataset. We will now use our kmeans model to predict the data stored in data_unseen. This variable was created at the beginning of the tutorial and contains 54 samples from the original dataset that were never exposed to PyCaret."
   ]
  },
  {
   "cell_type": "code",
   "execution_count": 131,
   "metadata": {},
   "outputs": [
    {
     "data": {
      "text/html": [
       "<div>\n",
       "<style scoped>\n",
       "    .dataframe tbody tr th:only-of-type {\n",
       "        vertical-align: middle;\n",
       "    }\n",
       "\n",
       "    .dataframe tbody tr th {\n",
       "        vertical-align: top;\n",
       "    }\n",
       "\n",
       "    .dataframe thead th {\n",
       "        text-align: right;\n",
       "    }\n",
       "</style>\n",
       "<table border=\"1\" class=\"dataframe\">\n",
       "  <thead>\n",
       "    <tr style=\"text-align: right;\">\n",
       "      <th></th>\n",
       "      <th>Age</th>\n",
       "      <th>Income</th>\n",
       "      <th>SpendingScore</th>\n",
       "      <th>Savings</th>\n",
       "      <th>Cluster</th>\n",
       "    </tr>\n",
       "  </thead>\n",
       "  <tbody>\n",
       "    <tr>\n",
       "      <th>0</th>\n",
       "      <td>65.0</td>\n",
       "      <td>71229.0</td>\n",
       "      <td>0.787890</td>\n",
       "      <td>9024.337461</td>\n",
       "      <td>Cluster 0</td>\n",
       "    </tr>\n",
       "    <tr>\n",
       "      <th>1</th>\n",
       "      <td>86.0</td>\n",
       "      <td>23400.0</td>\n",
       "      <td>0.278036</td>\n",
       "      <td>15215.281264</td>\n",
       "      <td>Cluster 2</td>\n",
       "    </tr>\n",
       "    <tr>\n",
       "      <th>2</th>\n",
       "      <td>32.0</td>\n",
       "      <td>108417.0</td>\n",
       "      <td>0.287371</td>\n",
       "      <td>16696.398659</td>\n",
       "      <td>Cluster 1</td>\n",
       "    </tr>\n",
       "    <tr>\n",
       "      <th>3</th>\n",
       "      <td>84.0</td>\n",
       "      <td>24105.0</td>\n",
       "      <td>0.271809</td>\n",
       "      <td>16524.902538</td>\n",
       "      <td>Cluster 2</td>\n",
       "    </tr>\n",
       "    <tr>\n",
       "      <th>4</th>\n",
       "      <td>84.0</td>\n",
       "      <td>30481.0</td>\n",
       "      <td>0.397023</td>\n",
       "      <td>16837.205965</td>\n",
       "      <td>Cluster 2</td>\n",
       "    </tr>\n",
       "  </tbody>\n",
       "</table>\n",
       "</div>"
      ],
      "text/plain": [
       "    Age    Income  SpendingScore       Savings    Cluster\n",
       "0  65.0   71229.0       0.787890   9024.337461  Cluster 0\n",
       "1  86.0   23400.0       0.278036  15215.281264  Cluster 2\n",
       "2  32.0  108417.0       0.287371  16696.398659  Cluster 1\n",
       "3  84.0   24105.0       0.271809  16524.902538  Cluster 2\n",
       "4  84.0   30481.0       0.397023  16837.205965  Cluster 2"
      ]
     },
     "execution_count": 131,
     "metadata": {},
     "output_type": "execute_result"
    }
   ],
   "source": [
    "unseen_predictions = predict_model(kmeans, data=data_unseen)\n",
    "unseen_predictions.head()"
   ]
  },
  {
   "cell_type": "markdown",
   "metadata": {},
   "source": [
    "## 8. Saving Model"
   ]
  },
  {
   "cell_type": "code",
   "execution_count": 132,
   "metadata": {},
   "outputs": [
    {
     "name": "stdout",
     "output_type": "stream",
     "text": [
      "Transformation Pipeline and Model Successfully Saved\n"
     ]
    },
    {
     "data": {
      "text/plain": [
       "(Pipeline(memory=Memory(location=None),\n",
       "          steps=[('numerical_imputer',\n",
       "                  TransformerWrapper(include=['Age', 'Income', 'SpendingScore',\n",
       "                                              'Savings'],\n",
       "                                     transformer=SimpleImputer())),\n",
       "                 ('categorical_imputer',\n",
       "                  TransformerWrapper(include=[],\n",
       "                                     transformer=SimpleImputer(strategy='most_frequent'))),\n",
       "                 ('trained_model', KMeans(n_clusters=4, random_state=2275))]),\n",
       " 'Final Kmeans Model.pkl')"
      ]
     },
     "execution_count": 132,
     "metadata": {},
     "output_type": "execute_result"
    }
   ],
   "source": [
    "save_model(kmeans,'Final Kmeans Model')"
   ]
  },
  {
   "cell_type": "markdown",
   "metadata": {},
   "source": [
    "## 9. Loading the saved model"
   ]
  },
  {
   "cell_type": "code",
   "execution_count": 133,
   "metadata": {},
   "outputs": [
    {
     "name": "stdout",
     "output_type": "stream",
     "text": [
      "Transformation Pipeline and Model Successfully Loaded\n"
     ]
    }
   ],
   "source": [
    "saved_kmeans = load_model('Final Kmeans Model')"
   ]
  },
  {
   "cell_type": "code",
   "execution_count": 134,
   "metadata": {},
   "outputs": [],
   "source": [
    "new_prediction = predict_model(saved_kmeans, data=data_unseen)"
   ]
  },
  {
   "cell_type": "code",
   "execution_count": 135,
   "metadata": {},
   "outputs": [
    {
     "data": {
      "text/html": [
       "<div>\n",
       "<style scoped>\n",
       "    .dataframe tbody tr th:only-of-type {\n",
       "        vertical-align: middle;\n",
       "    }\n",
       "\n",
       "    .dataframe tbody tr th {\n",
       "        vertical-align: top;\n",
       "    }\n",
       "\n",
       "    .dataframe thead th {\n",
       "        text-align: right;\n",
       "    }\n",
       "</style>\n",
       "<table border=\"1\" class=\"dataframe\">\n",
       "  <thead>\n",
       "    <tr style=\"text-align: right;\">\n",
       "      <th></th>\n",
       "      <th>Age</th>\n",
       "      <th>Income</th>\n",
       "      <th>SpendingScore</th>\n",
       "      <th>Savings</th>\n",
       "      <th>Cluster</th>\n",
       "    </tr>\n",
       "  </thead>\n",
       "  <tbody>\n",
       "    <tr>\n",
       "      <th>0</th>\n",
       "      <td>65</td>\n",
       "      <td>71229</td>\n",
       "      <td>0.787890</td>\n",
       "      <td>9024.337891</td>\n",
       "      <td>Cluster 0</td>\n",
       "    </tr>\n",
       "    <tr>\n",
       "      <th>1</th>\n",
       "      <td>86</td>\n",
       "      <td>23400</td>\n",
       "      <td>0.278036</td>\n",
       "      <td>15215.281250</td>\n",
       "      <td>Cluster 2</td>\n",
       "    </tr>\n",
       "    <tr>\n",
       "      <th>2</th>\n",
       "      <td>32</td>\n",
       "      <td>108417</td>\n",
       "      <td>0.287371</td>\n",
       "      <td>16696.398438</td>\n",
       "      <td>Cluster 1</td>\n",
       "    </tr>\n",
       "    <tr>\n",
       "      <th>3</th>\n",
       "      <td>84</td>\n",
       "      <td>24105</td>\n",
       "      <td>0.271809</td>\n",
       "      <td>16524.902344</td>\n",
       "      <td>Cluster 2</td>\n",
       "    </tr>\n",
       "    <tr>\n",
       "      <th>4</th>\n",
       "      <td>84</td>\n",
       "      <td>30481</td>\n",
       "      <td>0.397023</td>\n",
       "      <td>16837.205078</td>\n",
       "      <td>Cluster 2</td>\n",
       "    </tr>\n",
       "  </tbody>\n",
       "</table>\n",
       "</div>"
      ],
      "text/plain": [
       "   Age  Income  SpendingScore       Savings    Cluster\n",
       "0   65   71229       0.787890   9024.337891  Cluster 0\n",
       "1   86   23400       0.278036  15215.281250  Cluster 2\n",
       "2   32  108417       0.287371  16696.398438  Cluster 1\n",
       "3   84   24105       0.271809  16524.902344  Cluster 2\n",
       "4   84   30481       0.397023  16837.205078  Cluster 2"
      ]
     },
     "execution_count": 135,
     "metadata": {},
     "output_type": "execute_result"
    }
   ],
   "source": [
    "new_prediction.head()"
   ]
  },
  {
   "cell_type": "markdown",
   "metadata": {},
   "source": [
    "## 10. Creating streamlit application"
   ]
  }
 ],
 "metadata": {
  "kernelspec": {
   "display_name": "Python 3",
   "language": "python",
   "name": "python3"
  },
  "language_info": {
   "codemirror_mode": {
    "name": "ipython",
    "version": 3
   },
   "file_extension": ".py",
   "mimetype": "text/x-python",
   "name": "python",
   "nbconvert_exporter": "python",
   "pygments_lexer": "ipython3",
   "version": "3.11.6"
  }
 },
 "nbformat": 4,
 "nbformat_minor": 2
}
